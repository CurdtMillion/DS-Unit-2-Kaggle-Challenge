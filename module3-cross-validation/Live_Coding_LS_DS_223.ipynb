{
 "cells": [
  {
   "cell_type": "markdown",
   "metadata": {},
   "source": [
    "Lambda School Data Science\n",
    "\n",
    "*Unit 2, Sprint 2, Module 3*\n",
    "\n",
    "---"
   ]
  },
  {
   "cell_type": "markdown",
   "metadata": {
    "colab_type": "text",
    "id": "O67uhlT4MExK"
   },
   "source": [
    "# Cross-Validation\n",
    "\n",
    "- Do **cross-validation** with independent test set\n",
    "- Use scikit-learn for **hyperparameter optimization**"
   ]
  },
  {
   "cell_type": "markdown",
   "metadata": {
    "colab_type": "text",
    "id": "59EsvYLdDHAB"
   },
   "source": [
    "### Setup\n",
    "\n",
    "Run the code cell below. You can work locally (follow the [local setup instructions](https://lambdaschool.github.io/ds/unit2/local/)) or on Colab.\n",
    "\n",
    "Libraries\n",
    "\n",
    "- **category_encoders**\n",
    "- matplotlib\n",
    "- numpy\n",
    "- pandas\n",
    "- **pandas-profiling**\n",
    "- scikit-learn\n",
    "- scipy.stats"
   ]
  },
  {
   "cell_type": "code",
   "execution_count": 2,
   "metadata": {
    "colab": {},
    "colab_type": "code",
    "id": "hwbmmgaWDNid"
   },
   "outputs": [],
   "source": [
    "%%capture\n",
    "import sys\n",
    "\n",
    "# If you're on Colab:\n",
    "if 'google.colab' in sys.modules:\n",
    "    DATA_PATH = 'https://raw.githubusercontent.com/LambdaSchool/DS-Unit-2-Kaggle-Challenge/master/data/'\n",
    "    !pip install category_encoders==2.*\n",
    "    !pip install pandas-profiling==2.*\n",
    "\n",
    "# If you're working locally:\n",
    "else:\n",
    "    DATA_PATH = '../data/'"
   ]
  },
  {
   "cell_type": "markdown",
   "metadata": {},
   "source": [
    "# Do cross-validation with independent test set"
   ]
  },
  {
   "cell_type": "markdown",
   "metadata": {},
   "source": [
    "## Overview"
   ]
  },
  {
   "cell_type": "markdown",
   "metadata": {},
   "source": [
    "### Predict rent in NYC 🏠\n",
    "\n",
    "We're going back to one of our New York City real estate datasets. "
   ]
  },
  {
   "cell_type": "code",
   "execution_count": 3,
   "metadata": {},
   "outputs": [],
   "source": [
    "import numpy as np\n",
    "import pandas as pd\n",
    "\n",
    "# Read New York City apartment rental listing data\n",
    "df = pd.read_csv(DATA_PATH+'apartments/renthop-nyc.csv')\n",
    "assert df.shape == (49352, 34)\n",
    "\n",
    "# Remove the most extreme 1% prices,\n",
    "# the most extreme .1% latitudes, &\n",
    "# the most extreme .1% longitudes\n",
    "df = df[(df['price'] >= np.percentile(df['price'], 0.5)) & \n",
    "        (df['price'] <= np.percentile(df['price'], 99.5)) & \n",
    "        (df['latitude'] >= np.percentile(df['latitude'], 0.05)) & \n",
    "        (df['latitude'] < np.percentile(df['latitude'], 99.95)) &\n",
    "        (df['longitude'] >= np.percentile(df['longitude'], 0.05)) & \n",
    "        (df['longitude'] <= np.percentile(df['longitude'], 99.95))]\n",
    "\n",
    "# Do train/test split\n",
    "# Use data from April & May 2016 to train\n",
    "# Use data from June 2016 to test\n",
    "df['created'] = pd.to_datetime(df['created'], infer_datetime_format=True)\n",
    "cutoff = pd.to_datetime('2016-06-01')\n",
    "train = df[df.created < cutoff]\n",
    "test  = df[df.created >= cutoff]\n",
    "\n",
    "# Wrangle train & test sets in the same way\n",
    "def engineer_features(df):\n",
    "    \n",
    "    # Avoid SettingWithCopyWarning\n",
    "    df = df.copy()\n",
    "        \n",
    "    # Does the apartment have a description?\n",
    "    df['description'] = df['description'].str.strip().fillna('')\n",
    "    df['has_description'] = df['description'] != ''\n",
    "\n",
    "    # How long is the description?\n",
    "    df['description_length'] = df['description'].str.len()\n",
    "\n",
    "    # How many total perks does each apartment have?\n",
    "    perk_cols = ['elevator', 'cats_allowed', 'hardwood_floors', 'dogs_allowed',\n",
    "                 'doorman', 'dishwasher', 'no_fee', 'laundry_in_building',\n",
    "                 'fitness_center', 'pre-war', 'laundry_in_unit', 'roof_deck',\n",
    "                 'outdoor_space', 'dining_room', 'high_speed_internet', 'balcony',\n",
    "                 'swimming_pool', 'new_construction', 'exclusive', 'terrace', \n",
    "                 'loft', 'garden_patio', 'common_outdoor_space', \n",
    "                 'wheelchair_access']\n",
    "    df['perk_count'] = df[perk_cols].sum(axis=1)\n",
    "\n",
    "    # Are cats or dogs allowed?\n",
    "    df['cats_or_dogs'] = (df['cats_allowed']==1) | (df['dogs_allowed']==1)\n",
    "\n",
    "    # Are cats and dogs allowed?\n",
    "    df['cats_and_dogs'] = (df['cats_allowed']==1) & (df['dogs_allowed']==1)\n",
    "\n",
    "    # Total number of rooms (beds + baths)\n",
    "    df['rooms'] = df['bedrooms'] + df['bathrooms']\n",
    "    \n",
    "    # Extract number of days elapsed in year, and drop original date feature\n",
    "    df['days'] = (df['created'] - pd.to_datetime('2016-01-01')).dt.days\n",
    "    df = df.drop(columns='created')\n",
    "\n",
    "    return df\n",
    "\n",
    "train = engineer_features(train)\n",
    "test = engineer_features(test)"
   ]
  },
  {
   "cell_type": "code",
   "execution_count": 4,
   "metadata": {},
   "outputs": [
    {
     "ename": "AttributeError",
     "evalue": "module 'pandas_profiling' has no attribute '__version__'",
     "output_type": "error",
     "traceback": [
      "\u001b[1;31m---------------------------------------------------------------------------\u001b[0m",
      "\u001b[1;31mAttributeError\u001b[0m                            Traceback (most recent call last)",
      "\u001b[1;32m<ipython-input-4-b42ed3a4c095>\u001b[0m in \u001b[0;36m<module>\u001b[1;34m\u001b[0m\n\u001b[0;32m      1\u001b[0m \u001b[1;31m# Check Pandas Profiling version\u001b[0m\u001b[1;33m\u001b[0m\u001b[1;33m\u001b[0m\u001b[1;33m\u001b[0m\u001b[0m\n\u001b[0;32m      2\u001b[0m \u001b[1;32mimport\u001b[0m \u001b[0mpandas_profiling\u001b[0m\u001b[1;33m\u001b[0m\u001b[1;33m\u001b[0m\u001b[0m\n\u001b[1;32m----> 3\u001b[1;33m \u001b[0mpandas_profiling\u001b[0m\u001b[1;33m.\u001b[0m\u001b[0m__version__\u001b[0m\u001b[1;33m\u001b[0m\u001b[1;33m\u001b[0m\u001b[0m\n\u001b[0m",
      "\u001b[1;31mAttributeError\u001b[0m: module 'pandas_profiling' has no attribute '__version__'"
     ]
    }
   ],
   "source": [
    "# Check Pandas Profiling version\n",
    "import pandas_profiling\n",
    "pandas_profiling.__version__"
   ]
  },
  {
   "cell_type": "code",
   "execution_count": 5,
   "metadata": {},
   "outputs": [
    {
     "ename": "TypeError",
     "evalue": "_plot_histogram() got an unexpected keyword argument 'minimal'",
     "output_type": "error",
     "traceback": [
      "\u001b[1;31m---------------------------------------------------------------------------\u001b[0m",
      "\u001b[1;31mRemoteTraceback\u001b[0m                           Traceback (most recent call last)",
      "\u001b[1;31mRemoteTraceback\u001b[0m: \n\"\"\"\nTraceback (most recent call last):\n  File \"C:\\Users\\kushnap\\Miniconda3\\lib\\multiprocessing\\pool.py\", line 121, in worker\n    result = (True, func(*args, **kwds))\n  File \"C:\\Users\\kushnap\\Miniconda3\\lib\\multiprocessing\\pool.py\", line 44, in mapstar\n    return list(map(*args))\n  File \"C:\\Users\\kushnap\\Miniconda3\\lib\\site-packages\\pandas_profiling\\describe.py\", line 282, in multiprocess_func\n    return x[0], describe_1d(x[1], **kwargs)\n  File \"C:\\Users\\kushnap\\Miniconda3\\lib\\site-packages\\pandas_profiling\\describe.py\", line 270, in describe_1d\n    result = result.append(describe_numeric_1d(data, **kwargs))\n  File \"C:\\Users\\kushnap\\Miniconda3\\lib\\site-packages\\pandas_profiling\\describe.py\", line 54, in describe_numeric_1d\n    stats['histogram'] = histogram(series, **kwargs)\n  File \"C:\\Users\\kushnap\\Miniconda3\\lib\\site-packages\\pandas_profiling\\plot.py\", line 73, in histogram\n    plot = _plot_histogram(series, **kwargs)\nTypeError: _plot_histogram() got an unexpected keyword argument 'minimal'\n\"\"\"",
      "\nThe above exception was the direct cause of the following exception:\n",
      "\u001b[1;31mTypeError\u001b[0m                                 Traceback (most recent call last)",
      "\u001b[1;32m<ipython-input-5-f51ddb2a56cb>\u001b[0m in \u001b[0;36m<module>\u001b[1;34m\u001b[0m\n\u001b[0;32m     18\u001b[0m \u001b[1;31m# New code for Pandas Profiling version 2.4\u001b[0m\u001b[1;33m\u001b[0m\u001b[1;33m\u001b[0m\u001b[1;33m\u001b[0m\u001b[0m\n\u001b[0;32m     19\u001b[0m \u001b[1;32mfrom\u001b[0m \u001b[0mpandas_profiling\u001b[0m \u001b[1;32mimport\u001b[0m \u001b[0mProfileReport\u001b[0m\u001b[1;33m\u001b[0m\u001b[1;33m\u001b[0m\u001b[0m\n\u001b[1;32m---> 20\u001b[1;33m \u001b[0mprofile\u001b[0m \u001b[1;33m=\u001b[0m \u001b[0mProfileReport\u001b[0m\u001b[1;33m(\u001b[0m\u001b[0mtrain\u001b[0m\u001b[1;33m,\u001b[0m \u001b[0mminimal\u001b[0m\u001b[1;33m=\u001b[0m\u001b[1;32mTrue\u001b[0m\u001b[1;33m)\u001b[0m\u001b[1;33m.\u001b[0m\u001b[0mto_notebook_iframe\u001b[0m\u001b[1;33m(\u001b[0m\u001b[1;33m)\u001b[0m\u001b[1;33m\u001b[0m\u001b[1;33m\u001b[0m\u001b[0m\n\u001b[0m\u001b[0;32m     21\u001b[0m \u001b[1;33m\u001b[0m\u001b[0m\n\u001b[0;32m     22\u001b[0m \u001b[0mprofile\u001b[0m\u001b[1;33m\u001b[0m\u001b[1;33m\u001b[0m\u001b[0m\n",
      "\u001b[1;32m~\\Miniconda3\\lib\\site-packages\\pandas_profiling\\__init__.py\u001b[0m in \u001b[0;36m__init__\u001b[1;34m(self, df, **kwargs)\u001b[0m\n\u001b[0;32m     64\u001b[0m         \u001b[0msample\u001b[0m \u001b[1;33m=\u001b[0m \u001b[0mkwargs\u001b[0m\u001b[1;33m.\u001b[0m\u001b[0mget\u001b[0m\u001b[1;33m(\u001b[0m\u001b[1;34m'sample'\u001b[0m\u001b[1;33m,\u001b[0m \u001b[0mdf\u001b[0m\u001b[1;33m.\u001b[0m\u001b[0mhead\u001b[0m\u001b[1;33m(\u001b[0m\u001b[1;33m)\u001b[0m\u001b[1;33m)\u001b[0m\u001b[1;33m\u001b[0m\u001b[1;33m\u001b[0m\u001b[0m\n\u001b[0;32m     65\u001b[0m \u001b[1;33m\u001b[0m\u001b[0m\n\u001b[1;32m---> 66\u001b[1;33m         \u001b[0mdescription_set\u001b[0m \u001b[1;33m=\u001b[0m \u001b[0mdescribe\u001b[0m\u001b[1;33m(\u001b[0m\u001b[0mdf\u001b[0m\u001b[1;33m,\u001b[0m \u001b[1;33m**\u001b[0m\u001b[0mkwargs\u001b[0m\u001b[1;33m)\u001b[0m\u001b[1;33m\u001b[0m\u001b[1;33m\u001b[0m\u001b[0m\n\u001b[0m\u001b[0;32m     67\u001b[0m \u001b[1;33m\u001b[0m\u001b[0m\n\u001b[0;32m     68\u001b[0m         self.html = to_html(sample,\n",
      "\u001b[1;32m~\\Miniconda3\\lib\\site-packages\\pandas_profiling\\describe.py\u001b[0m in \u001b[0;36mdescribe\u001b[1;34m(df, bins, check_correlation, correlation_threshold, correlation_overrides, check_recoded, pool_size, **kwargs)\u001b[0m\n\u001b[0;32m    349\u001b[0m     \u001b[0mpool\u001b[0m \u001b[1;33m=\u001b[0m \u001b[0mmultiprocessing\u001b[0m\u001b[1;33m.\u001b[0m\u001b[0mPool\u001b[0m\u001b[1;33m(\u001b[0m\u001b[0mpool_size\u001b[0m\u001b[1;33m)\u001b[0m\u001b[1;33m\u001b[0m\u001b[1;33m\u001b[0m\u001b[0m\n\u001b[0;32m    350\u001b[0m     \u001b[0mlocal_multiprocess_func\u001b[0m \u001b[1;33m=\u001b[0m \u001b[0mpartial\u001b[0m\u001b[1;33m(\u001b[0m\u001b[0mmultiprocess_func\u001b[0m\u001b[1;33m,\u001b[0m \u001b[1;33m**\u001b[0m\u001b[0mkwargs\u001b[0m\u001b[1;33m)\u001b[0m\u001b[1;33m\u001b[0m\u001b[1;33m\u001b[0m\u001b[0m\n\u001b[1;32m--> 351\u001b[1;33m     \u001b[0mldesc\u001b[0m \u001b[1;33m=\u001b[0m \u001b[1;33m{\u001b[0m\u001b[0mcol\u001b[0m\u001b[1;33m:\u001b[0m \u001b[0ms\u001b[0m \u001b[1;32mfor\u001b[0m \u001b[0mcol\u001b[0m\u001b[1;33m,\u001b[0m \u001b[0ms\u001b[0m \u001b[1;32min\u001b[0m \u001b[0mpool\u001b[0m\u001b[1;33m.\u001b[0m\u001b[0mmap\u001b[0m\u001b[1;33m(\u001b[0m\u001b[0mlocal_multiprocess_func\u001b[0m\u001b[1;33m,\u001b[0m \u001b[0mdf\u001b[0m\u001b[1;33m.\u001b[0m\u001b[0miteritems\u001b[0m\u001b[1;33m(\u001b[0m\u001b[1;33m)\u001b[0m\u001b[1;33m)\u001b[0m\u001b[1;33m}\u001b[0m\u001b[1;33m\u001b[0m\u001b[1;33m\u001b[0m\u001b[0m\n\u001b[0m\u001b[0;32m    352\u001b[0m     \u001b[0mpool\u001b[0m\u001b[1;33m.\u001b[0m\u001b[0mclose\u001b[0m\u001b[1;33m(\u001b[0m\u001b[1;33m)\u001b[0m\u001b[1;33m\u001b[0m\u001b[1;33m\u001b[0m\u001b[0m\n\u001b[0;32m    353\u001b[0m \u001b[1;33m\u001b[0m\u001b[0m\n",
      "\u001b[1;32m~\\Miniconda3\\lib\\multiprocessing\\pool.py\u001b[0m in \u001b[0;36mmap\u001b[1;34m(self, func, iterable, chunksize)\u001b[0m\n\u001b[0;32m    266\u001b[0m         \u001b[1;32min\u001b[0m \u001b[0ma\u001b[0m \u001b[0mlist\u001b[0m \u001b[0mthat\u001b[0m \u001b[1;32mis\u001b[0m \u001b[0mreturned\u001b[0m\u001b[1;33m.\u001b[0m\u001b[1;33m\u001b[0m\u001b[1;33m\u001b[0m\u001b[0m\n\u001b[0;32m    267\u001b[0m         '''\n\u001b[1;32m--> 268\u001b[1;33m         \u001b[1;32mreturn\u001b[0m \u001b[0mself\u001b[0m\u001b[1;33m.\u001b[0m\u001b[0m_map_async\u001b[0m\u001b[1;33m(\u001b[0m\u001b[0mfunc\u001b[0m\u001b[1;33m,\u001b[0m \u001b[0miterable\u001b[0m\u001b[1;33m,\u001b[0m \u001b[0mmapstar\u001b[0m\u001b[1;33m,\u001b[0m \u001b[0mchunksize\u001b[0m\u001b[1;33m)\u001b[0m\u001b[1;33m.\u001b[0m\u001b[0mget\u001b[0m\u001b[1;33m(\u001b[0m\u001b[1;33m)\u001b[0m\u001b[1;33m\u001b[0m\u001b[1;33m\u001b[0m\u001b[0m\n\u001b[0m\u001b[0;32m    269\u001b[0m \u001b[1;33m\u001b[0m\u001b[0m\n\u001b[0;32m    270\u001b[0m     \u001b[1;32mdef\u001b[0m \u001b[0mstarmap\u001b[0m\u001b[1;33m(\u001b[0m\u001b[0mself\u001b[0m\u001b[1;33m,\u001b[0m \u001b[0mfunc\u001b[0m\u001b[1;33m,\u001b[0m \u001b[0miterable\u001b[0m\u001b[1;33m,\u001b[0m \u001b[0mchunksize\u001b[0m\u001b[1;33m=\u001b[0m\u001b[1;32mNone\u001b[0m\u001b[1;33m)\u001b[0m\u001b[1;33m:\u001b[0m\u001b[1;33m\u001b[0m\u001b[1;33m\u001b[0m\u001b[0m\n",
      "\u001b[1;32m~\\Miniconda3\\lib\\multiprocessing\\pool.py\u001b[0m in \u001b[0;36mget\u001b[1;34m(self, timeout)\u001b[0m\n\u001b[0;32m    655\u001b[0m             \u001b[1;32mreturn\u001b[0m \u001b[0mself\u001b[0m\u001b[1;33m.\u001b[0m\u001b[0m_value\u001b[0m\u001b[1;33m\u001b[0m\u001b[1;33m\u001b[0m\u001b[0m\n\u001b[0;32m    656\u001b[0m         \u001b[1;32melse\u001b[0m\u001b[1;33m:\u001b[0m\u001b[1;33m\u001b[0m\u001b[1;33m\u001b[0m\u001b[0m\n\u001b[1;32m--> 657\u001b[1;33m             \u001b[1;32mraise\u001b[0m \u001b[0mself\u001b[0m\u001b[1;33m.\u001b[0m\u001b[0m_value\u001b[0m\u001b[1;33m\u001b[0m\u001b[1;33m\u001b[0m\u001b[0m\n\u001b[0m\u001b[0;32m    658\u001b[0m \u001b[1;33m\u001b[0m\u001b[0m\n\u001b[0;32m    659\u001b[0m     \u001b[1;32mdef\u001b[0m \u001b[0m_set\u001b[0m\u001b[1;33m(\u001b[0m\u001b[0mself\u001b[0m\u001b[1;33m,\u001b[0m \u001b[0mi\u001b[0m\u001b[1;33m,\u001b[0m \u001b[0mobj\u001b[0m\u001b[1;33m)\u001b[0m\u001b[1;33m:\u001b[0m\u001b[1;33m\u001b[0m\u001b[1;33m\u001b[0m\u001b[0m\n",
      "\u001b[1;31mTypeError\u001b[0m: _plot_histogram() got an unexpected keyword argument 'minimal'"
     ]
    }
   ],
   "source": [
    "# Old code for Pandas Profiling version 2.3\n",
    "\n",
    "# profile = train.profile_report(\n",
    "#     check_correlation_pearson=False,\n",
    "#     correlations={\n",
    "#         'pearson': False,\n",
    "#         'spearman': False,\n",
    "#         'kendall': False,\n",
    "#         'phi_k': False,\n",
    "#         'cramers': False,\n",
    "#         'recoded': False,\n",
    "#     },\n",
    "#     plot={'histogram': {'bayesian_blocks_bins': False}},\n",
    "# )\n",
    "#\n",
    "\n",
    "\n",
    "# New code for Pandas Profiling version 2.4\n",
    "from pandas_profiling import ProfileReport\n",
    "profile = ProfileReport(train, minimal=True).to_notebook_iframe()\n",
    "\n",
    "profile"
   ]
  },
  {
   "cell_type": "markdown",
   "metadata": {},
   "source": [
    "### Validation options"
   ]
  },
  {
   "cell_type": "markdown",
   "metadata": {
    "colab_type": "text",
    "id": "Hr-Dt67Gv2cB"
   },
   "source": [
    "Let's take another look at [Sebastian Raschka's diagram of model evaluation methods.](https://sebastianraschka.com/blog/2018/model-evaluation-selection-part4.html) So far we've been using \"**train/validation/test split**\", but we have more options. \n",
    "\n",
    "Today we'll learn about \"k-fold **cross-validation** with independent test set\", for \"model selection (**hyperparameter optimization**) and performance estimation.\"\n",
    "\n",
    "<img src=\"https://sebastianraschka.com/images/blog/2018/model-evaluation-selection-part4/model-eval-conclusions.jpg\" width=\"600\">\n",
    "\n",
    "<sup>Source: https://sebastianraschka.com/blog/2018/model-evaluation-selection-part4.html</sup>\n",
    "\n"
   ]
  },
  {
   "cell_type": "markdown",
   "metadata": {},
   "source": [
    "### Cross-validation: What & Why?"
   ]
  },
  {
   "cell_type": "markdown",
   "metadata": {
    "colab_type": "text",
    "id": "ozuzFo_Pv2cB"
   },
   "source": [
    "The Scikit-Learn docs show a diagram of how k-fold cross-validation works, and explain the pros & cons of cross-validation versus train/validate/test split.\n",
    "\n",
    "#### [Scikit-Learn User Guide, 3.1 Cross-validation](https://scikit-learn.org/stable/modules/cross_validation.html)\n",
    "\n",
    "> When evaluating different settings (“hyperparameters”) for estimators, there is still a risk of overfitting on the test set because the parameters can be tweaked until the estimator performs optimally. This way, knowledge about the test set can “leak” into the model and evaluation metrics no longer report on generalization performance. To solve this problem, yet another part of the dataset can be held out as a so-called “validation set”: training proceeds on the training set, after which evaluation is done on the validation set, and when the experiment seems to be successful, final evaluation can be done on the test set.\n",
    ">\n",
    "> However, **by partitioning the available data into three sets, we drastically reduce the number of samples which can be used for learning the model, and the results can depend on a particular random choice for the pair of (train, validation) sets.**\n",
    ">\n",
    "> **A solution to this problem is a procedure called cross-validation (CV for short). A test set should still be held out for final evaluation, but the validation set is no longer needed when doing CV.** \n",
    "\n",
    "<img src=\"https://scikit-learn.org/stable/_images/grid_search_cross_validation.png\" width=\"600\">\n",
    "\n",
    "> In the basic approach, called k-fold CV, the training set is split into k smaller sets. The following procedure is followed for each of the k “folds”:\n",
    ">\n",
    "> - A model is trained using $k-1$ of the folds as training data;\n",
    "> - the resulting model is validated on the remaining part of the data (i.e., it is used as a test set to compute a performance measure such as accuracy).\n",
    ">\n",
    "> The performance measure reported by k-fold cross-validation is then the average of the values computed in the loop. **This approach can be computationally expensive, but does not waste too much data (as is the case when fixing an arbitrary validation set).**"
   ]
  },
  {
   "cell_type": "markdown",
   "metadata": {},
   "source": [
    "## Follow Along"
   ]
  },
  {
   "cell_type": "markdown",
   "metadata": {
    "colab_type": "text",
    "id": "o10EvckQv2cC"
   },
   "source": [
    "### cross_val_score\n",
    "\n",
    "How do we get started? According to the [Scikit-Learn User Guide](https://scikit-learn.org/stable/modules/cross_validation.html#computing-cross-validated-metrics), \n",
    "\n",
    "> The simplest way to use cross-validation is to call the [**`cross_val_score`**](https://scikit-learn.org/stable/modules/generated/sklearn.model_selection.cross_val_score.html) helper function\n",
    "\n",
    "But, there's a quirk: For scikit-learn's cross-validation [**scoring**](https://scikit-learn.org/stable/modules/model_evaluation.html#scoring-parameter), higher is better. But for regression error metrics, lower is better. So scikit-learn multiplies regression error metrics by -1 to make them negative. That's why the value of the `scoring` parameter is `'neg_mean_absolute_error'`.\n",
    "\n",
    "So, k-fold cross-validation with this dataset looks like this:"
   ]
  },
  {
   "cell_type": "markdown",
   "metadata": {},
   "source": [
    "### Linear Model"
   ]
  },
  {
   "cell_type": "code",
   "execution_count": 6,
   "metadata": {},
   "outputs": [
    {
     "name": "stdout",
     "output_type": "stream",
     "text": [
      "MAE for 3 folds: [688.76802481 669.12666062 679.61427975]\n"
     ]
    }
   ],
   "source": [
    "import category_encoders as ce\n",
    "import numpy as np\n",
    "from sklearn.feature_selection import f_regression, SelectKBest\n",
    "from sklearn.impute import SimpleImputer\n",
    "from sklearn.linear_model import Ridge\n",
    "from sklearn.model_selection import cross_val_score\n",
    "from sklearn.pipeline import make_pipeline\n",
    "from sklearn.preprocessing import StandardScaler\n",
    "\n",
    "target = 'price'\n",
    "high_cardinality = ['display_address', 'street_address', 'description']\n",
    "features = train.columns.drop([target] + high_cardinality)\n",
    "X_train = train[features]\n",
    "y_train = train[target]\n",
    "\n",
    "pipeline = make_pipeline(\n",
    "    ce.OneHotEncoder(use_cat_names=True), \n",
    "    SimpleImputer(strategy='mean'), \n",
    "    StandardScaler(), \n",
    "    SelectKBest(f_regression, k=20), \n",
    "    Ridge(alpha=1.0)\n",
    ")\n",
    "\n",
    "k = 3\n",
    "scores = cross_val_score(pipeline, X_train, y_train, cv=k, \n",
    "                         scoring='neg_mean_absolute_error')\n",
    "print(f'MAE for {k} folds:', -scores)"
   ]
  },
  {
   "cell_type": "code",
   "execution_count": 7,
   "metadata": {},
   "outputs": [
    {
     "data": {
      "text/plain": [
       "array([-688.76802481, -669.12666062, -679.61427975])"
      ]
     },
     "execution_count": 7,
     "metadata": {},
     "output_type": "execute_result"
    }
   ],
   "source": [
    "scores"
   ]
  },
  {
   "cell_type": "code",
   "execution_count": 8,
   "metadata": {
    "scrolled": true
   },
   "outputs": [
    {
     "data": {
      "text/plain": [
       "679.1696550623269"
      ]
     },
     "execution_count": 8,
     "metadata": {},
     "output_type": "execute_result"
    }
   ],
   "source": [
    "# Placing negative sign in front, in order to get a positive number.\n",
    "-scores.mean()"
   ]
  },
  {
   "cell_type": "code",
   "execution_count": 9,
   "metadata": {},
   "outputs": [
    {
     "data": {
      "text/plain": [
       "8.024714539669542"
      ]
     },
     "execution_count": 9,
     "metadata": {},
     "output_type": "execute_result"
    }
   ],
   "source": [
    "scores.std()"
   ]
  },
  {
   "cell_type": "markdown",
   "metadata": {},
   "source": [
    "### Random Forest"
   ]
  },
  {
   "cell_type": "code",
   "execution_count": 10,
   "metadata": {},
   "outputs": [
    {
     "name": "stdout",
     "output_type": "stream",
     "text": [
      "MAE for 3 folds: [392.28996182 404.92923235 388.97416404]\n"
     ]
    }
   ],
   "source": [
    "from sklearn.ensemble import RandomForestRegressor\n",
    "\n",
    "features = train.columns.drop(target)\n",
    "X_train = train[features]\n",
    "y_train = train[target]\n",
    "\n",
    "pipeline = make_pipeline(\n",
    "    ce.TargetEncoder(min_samples_leaf=1, smoothing=1), # Target Encoder is a different method that can be used.\n",
    "    SimpleImputer(strategy='median'), # For tree based models, do not need scalar\n",
    "    RandomForestRegressor(n_estimators=100, n_jobs=-1, random_state=42)\n",
    ")\n",
    "\n",
    "k = 3\n",
    "scores = cross_val_score(pipeline, X_train, y_train, cv=k, \n",
    "                         scoring='neg_mean_absolute_error')\n",
    "print(f'MAE for {k} folds:', -scores)"
   ]
  },
  {
   "cell_type": "code",
   "execution_count": 11,
   "metadata": {},
   "outputs": [
    {
     "data": {
      "text/plain": [
       "395.3977860725861"
      ]
     },
     "execution_count": 11,
     "metadata": {},
     "output_type": "execute_result"
    }
   ],
   "source": [
    "-scores.mean()"
   ]
  },
  {
   "cell_type": "code",
   "execution_count": 12,
   "metadata": {},
   "outputs": [
    {
     "data": {
      "text/plain": [
       "6.874347476267516"
      ]
     },
     "execution_count": 12,
     "metadata": {},
     "output_type": "execute_result"
    }
   ],
   "source": [
    "scores.std()"
   ]
  },
  {
   "cell_type": "markdown",
   "metadata": {
    "colab_type": "text",
    "id": "7dq-PfpGZSHJ"
   },
   "source": [
    "But the Random Forest has many hyperparameters. We mostly used the defaults, and arbitrarily chose `n_estimators`. Is it too high? Too low? Just right? How do we know?"
   ]
  },
  {
   "cell_type": "code",
   "execution_count": 13,
   "metadata": {
    "colab": {
     "base_uri": "https://localhost:8080/",
     "height": 156
    },
    "colab_type": "code",
    "id": "YCubg7EbjZyT",
    "outputId": "99017454-7027-47c8-8eb4-524c7e2b99ed"
   },
   "outputs": [
    {
     "name": "stdout",
     "output_type": "stream",
     "text": [
      "Model Hyperparameters:\n",
      "RandomForestRegressor(bootstrap=True, ccp_alpha=0.0, criterion='mse',\n",
      "                      max_depth=None, max_features='auto', max_leaf_nodes=None,\n",
      "                      max_samples=None, min_impurity_decrease=0.0,\n",
      "                      min_impurity_split=None, min_samples_leaf=1,\n",
      "                      min_samples_split=2, min_weight_fraction_leaf=0.0,\n",
      "                      n_estimators=100, n_jobs=-1, oob_score=False,\n",
      "                      random_state=42, verbose=0, warm_start=False)\n"
     ]
    }
   ],
   "source": [
    "print('Model Hyperparameters:')\n",
    "print(pipeline.named_steps['randomforestregressor'])"
   ]
  },
  {
   "cell_type": "markdown",
   "metadata": {},
   "source": [
    "## Challenge\n",
    "\n",
    "You will continue to participate in our Kaggle challenge. Use cross-validation and submit new predictions."
   ]
  },
  {
   "cell_type": "markdown",
   "metadata": {},
   "source": [
    "# Use scikit-learn for hyperparameter optimization"
   ]
  },
  {
   "cell_type": "markdown",
   "metadata": {},
   "source": [
    "## Overview"
   ]
  },
  {
   "cell_type": "markdown",
   "metadata": {
    "colab_type": "text",
    "id": "bk6o8W7Cv2cE"
   },
   "source": [
    "\"The universal tension in machine learning is between optimization and generalization; the ideal model is one that stands right at the border between underfitting and overfitting; between undercapacity and overcapacity. To figure out where this border lies, first you must cross it.\" —[Francois Chollet](https://books.google.com/books?id=dadfDwAAQBAJ&pg=PA114)"
   ]
  },
  {
   "cell_type": "markdown",
   "metadata": {
    "colab_type": "text",
    "id": "p8uKvR_pv2cG"
   },
   "source": [
    "### Validation Curve\n",
    "\n",
    "Let's try different parameter values, and visualize \"the border between underfitting and overfitting.\" \n",
    "\n",
    "Using scikit-learn, we can make [validation curves](https://scikit-learn.org/stable/modules/generated/sklearn.model_selection.validation_curve.html), \"to determine training and test scores for varying parameter values. This is similar to grid search with one parameter.\""
   ]
  },
  {
   "cell_type": "markdown",
   "metadata": {
    "colab_type": "text",
    "id": "hEIxeNXdv2cF"
   },
   "source": [
    "<img src=\"https://jakevdp.github.io/PythonDataScienceHandbook/figures/05.03-validation-curve.png\">\n",
    "\n",
    "<sup>Source: https://jakevdp.github.io/PythonDataScienceHandbook/05.03-hyperparameters-and-model-validation.html#Validation-curves-in-Scikit-Learn</sup>"
   ]
  },
  {
   "cell_type": "markdown",
   "metadata": {
    "colab_type": "text",
    "id": "r3bbgaP2c3Pr"
   },
   "source": [
    "Validation curves are awesome for learning about overfitting and underfitting. (But less useful in real-world projects, because we usually want to vary more than one parameter.)\n",
    "\n",
    "For this example, let's see what happens when we vary the depth of a decision tree. (This will be faster than varying the number of estimators in a random forest.)"
   ]
  },
  {
   "cell_type": "code",
   "execution_count": 14,
   "metadata": {
    "colab": {
     "base_uri": "https://localhost:8080/",
     "height": 283
    },
    "colab_type": "code",
    "id": "znIz2FPQv2cG",
    "outputId": "7fcd120d-fc9a-4cb4-8b5d-b11b47d056f7",
    "scrolled": true
   },
   "outputs": [
    {
     "data": {
      "image/png": "[encoded data removed]",
      "text/plain": [
       "<Figure size 900x600 with 1 Axes>"
      ]
     },
     "metadata": {
      "needs_background": "light"
     },
     "output_type": "display_data"
    }
   ],
   "source": [
    "%matplotlib inline\n",
    "import matplotlib.pyplot as plt\n",
    "from sklearn.model_selection import validation_curve\n",
    "from sklearn.tree import DecisionTreeRegressor\n",
    "\n",
    "pipeline = make_pipeline(\n",
    "    ce.OrdinalEncoder(), \n",
    "    SimpleImputer(strategy='mean'), \n",
    "    RandomForestClassifier()\n",
    ")\n",
    "\n",
    "depth = range(1, 30, 3)\n",
    "train_scores, val_scores = validation_curve(\n",
    "    pipeline, X_train, y_train,\n",
    "    param_name='decisiontreeregressor__max_depth', \n",
    "    param_range=depth, scoring='neg_mean_absolute_error', \n",
    "    cv=3,\n",
    "    n_jobs=-1\n",
    ")\n",
    "\n",
    "plt.figure(dpi=150)\n",
    "plt.plot(depth, np.mean(-train_scores, axis=1), color='blue', label='training error')\n",
    "plt.plot(depth, np.mean(-val_scores, axis=1), color='red', label='validation error')\n",
    "plt.title('Validation Curve')\n",
    "plt.xlabel('model complexity: DecisionTreeRegressor max_depth')\n",
    "plt.ylabel('model score: Mean Absolute Error')\n",
    "plt.legend();"
   ]
  },
  {
   "cell_type": "code",
   "execution_count": 15,
   "metadata": {},
   "outputs": [
    {
     "data": {
      "image/png": "[encoded data removed]",
      "text/plain": [
       "<Figure size 900x600 with 1 Axes>"
      ]
     },
     "metadata": {
      "needs_background": "light"
     },
     "output_type": "display_data"
    }
   ],
   "source": [
    "plt.figure(dpi=150)\n",
    "plt.plot(depth, np.mean(-train_scores, axis=1), color='blue', label='training error')\n",
    "plt.plot(depth, np.mean(-val_scores, axis=1), color='red', label='validation error')\n",
    "plt.title('Validation Curve, Zoomed In')\n",
    "plt.xlabel('model complexity: DecisionTreeRegressor max_depth')\n",
    "plt.ylabel('model score: Mean Absolute Error')\n",
    "plt.ylim((500, 700))  # Zoom in\n",
    "plt.legend();"
   ]
  },
  {
   "cell_type": "markdown",
   "metadata": {},
   "source": [
    "## Follow Along"
   ]
  },
  {
   "cell_type": "markdown",
   "metadata": {
    "colab_type": "text",
    "id": "JUaLgk8Pv2cJ"
   },
   "source": [
    "To vary multiple hyperparameters and find their optimal values, let's try **Randomized Search CV.**"
   ]
  },
  {
   "cell_type": "markdown",
   "metadata": {
    "colab_type": "text",
    "id": "AexbC7fjv2cL"
   },
   "source": [
    "#### [Scikit-Learn User Guide, 3.2 Tuning the hyper-parameters of an estimator](https://scikit-learn.org/stable/modules/grid_search.html)\n",
    "\n",
    "> Hyper-parameters are parameters that are not directly learnt within estimators. In scikit-learn they are passed as arguments to the constructor of the estimator classes. \n",
    ">\n",
    "> It is possible and recommended to search the hyper-parameter space for the best cross validation score.\n",
    ">\n",
    "> [`GridSearchCV`](https://scikit-learn.org/stable/modules/generated/sklearn.model_selection.GridSearchCV.html#sklearn.model_selection.GridSearchCV) exhaustively considers all parameter combinations, while [`RandomizedSearchCV`](https://scikit-learn.org/stable/modules/generated/sklearn.model_selection.RandomizedSearchCV.html) can sample a given number of candidates from a parameter space with a specified distribution. \n",
    ">\n",
    "> While using a grid of parameter settings is currently the most widely used method for parameter optimization, other search methods have more favourable properties. [`RandomizedSearchCV`](https://scikit-learn.org/stable/modules/generated/sklearn.model_selection.RandomizedSearchCV.html) implements a randomized search over parameters, where each setting is sampled from a distribution over possible parameter values.\n",
    ">\n",
    "> Specifying how parameters should be sampled is done using a dictionary. Additionally, a computation budget, being the number of sampled candidates or sampling iterations, is specified using the `n_iter` parameter. \n",
    ">\n",
    "> For each parameter, either a distribution over possible values or a list of discrete choices (which will be sampled uniformly) can be specified."
   ]
  },
  {
   "cell_type": "markdown",
   "metadata": {},
   "source": [
    "Here's a good blog post to explain more: [**A Comparison of Grid Search and Randomized Search Using Scikit Learn**](https://blog.usejournal.com/a-comparison-of-grid-search-and-randomized-search-using-scikit-learn-29823179bc85).\n",
    "\n",
    "<img src=\"https://miro.medium.com/max/2500/1*9W1MrRkHi0YFmBoHi9Y2Ow.png\" width=\"50%\">"
   ]
  },
  {
   "cell_type": "markdown",
   "metadata": {},
   "source": [
    "### Linear Model"
   ]
  },
  {
   "cell_type": "code",
   "execution_count": 16,
   "metadata": {
    "colab": {
     "base_uri": "https://localhost:8080/",
     "height": 104
    },
    "colab_type": "code",
    "id": "ZtZQbJQ5v2cM",
    "outputId": "6f75c531-7168-4d0d-d865-b066398b3467",
    "scrolled": true
   },
   "outputs": [
    {
     "name": "stdout",
     "output_type": "stream",
     "text": [
      "Fitting 5 folds for each of 50 candidates, totalling 250 fits\n"
     ]
    },
    {
     "name": "stderr",
     "output_type": "stream",
     "text": [
      "[Parallel(n_jobs=-1)]: Using backend LokyBackend with 8 concurrent workers.\n",
      "[Parallel(n_jobs=-1)]: Done   2 tasks      | elapsed:    2.8s\n",
      "[Parallel(n_jobs=-1)]: Done   9 tasks      | elapsed:    5.2s\n",
      "[Parallel(n_jobs=-1)]: Done  16 tasks      | elapsed:    7.8s\n",
      "[Parallel(n_jobs=-1)]: Done  25 tasks      | elapsed:   11.2s\n",
      "[Parallel(n_jobs=-1)]: Done  34 tasks      | elapsed:   14.7s\n",
      "[Parallel(n_jobs=-1)]: Done  45 tasks      | elapsed:   19.6s\n",
      "[Parallel(n_jobs=-1)]: Done  56 tasks      | elapsed:   23.9s\n",
      "[Parallel(n_jobs=-1)]: Done  69 tasks      | elapsed:   29.0s\n",
      "[Parallel(n_jobs=-1)]: Done  82 tasks      | elapsed:   34.4s\n",
      "[Parallel(n_jobs=-1)]: Done  97 tasks      | elapsed:   40.0s\n",
      "[Parallel(n_jobs=-1)]: Done 112 tasks      | elapsed:   46.3s\n",
      "[Parallel(n_jobs=-1)]: Done 129 tasks      | elapsed:   53.2s\n",
      "[Parallel(n_jobs=-1)]: Done 146 tasks      | elapsed:  1.0min\n",
      "[Parallel(n_jobs=-1)]: Done 165 tasks      | elapsed:  1.1min\n",
      "[Parallel(n_jobs=-1)]: Done 184 tasks      | elapsed:  1.3min\n",
      "[Parallel(n_jobs=-1)]: Done 205 tasks      | elapsed:  1.4min\n",
      "[Parallel(n_jobs=-1)]: Done 226 tasks      | elapsed:  1.6min\n",
      "[Parallel(n_jobs=-1)]: Done 250 out of 250 | elapsed:  1.7min finished\n"
     ]
    }
   ],
   "source": [
    "from sklearn.model_selection import GridSearchCV, RandomizedSearchCV\n",
    "\n",
    "features = train.columns.drop([target] + high_cardinality)\n",
    "X_train = train[features]\n",
    "y_train = train[target]\n",
    "\n",
    "pipeline = make_pipeline(\n",
    "    ce.OneHotEncoder(use_cat_names=True), \n",
    "    SimpleImputer(), \n",
    "    StandardScaler(), \n",
    "    SelectKBest(f_regression), \n",
    "    Ridge()\n",
    ")\n",
    "\n",
    "param_distributions = {\n",
    "    'simpleimputer__strategy': ['mean', 'median'], \n",
    "    'selectkbest__k': range(1, len(X_train.columns)+1), \n",
    "    'ridge__alpha': [0.1, 1, 10], \n",
    "}\n",
    "\n",
    "# If you're on Colab, decrease n_iter & cv parameters\n",
    "search = RandomizedSearchCV(\n",
    "    pipeline, \n",
    "    param_distributions=param_distributions, \n",
    "    n_iter=50, \n",
    "    cv=5, \n",
    "    scoring='neg_mean_absolute_error', \n",
    "    verbose=10, \n",
    "    return_train_score=True, \n",
    "    n_jobs=-1\n",
    ")\n",
    "\n",
    "search.fit(X_train, y_train);"
   ]
  },
  {
   "cell_type": "code",
   "execution_count": 17,
   "metadata": {
    "colab": {
     "base_uri": "https://localhost:8080/",
     "height": 72
    },
    "colab_type": "code",
    "id": "P9M-OOJltM_I",
    "outputId": "5f60ed08-bc9d-446d-f737-99ab71e959e8"
   },
   "outputs": [
    {
     "name": "stdout",
     "output_type": "stream",
     "text": [
      "Best hyperparameters {'simpleimputer__strategy': 'median', 'selectkbest__k': 35, 'ridge__alpha': 10}\n",
      "Cross-validation MAE 671.9941952034559\n"
     ]
    }
   ],
   "source": [
    "print('Best hyperparameters', search.best_params_)\n",
    "print('Cross-validation MAE', -search.best_score_)"
   ]
  },
  {
   "cell_type": "code",
   "execution_count": 18,
   "metadata": {},
   "outputs": [
    {
     "data": {
      "text/plain": [
       "216"
      ]
     },
     "execution_count": 18,
     "metadata": {},
     "output_type": "execute_result"
    }
   ],
   "source": [
    "# If we used GridSearchCV instead of RandomizedSearchCV, \n",
    "# how many candidates would there be?\n",
    "# 2 imputation strategies * n columns * 3 Ridge alphas\n",
    "2 * len(X_train.columns) * 3"
   ]
  },
  {
   "cell_type": "markdown",
   "metadata": {},
   "source": []
  },
  {
   "cell_type": "markdown",
   "metadata": {
    "colab_type": "text",
    "id": "Q79ipvpgqYwF"
   },
   "source": [
    "### \"Fitting X folds for each of Y candidates, totalling Z fits\" ?\n",
    "\n",
    "What did that mean? What do you think?\n",
    "\n"
   ]
  },
  {
   "cell_type": "markdown",
   "metadata": {},
   "source": [
    "### Random Forest"
   ]
  },
  {
   "cell_type": "markdown",
   "metadata": {},
   "source": [
    "#### [Scikit-Learn User Guide, 3.2 Tuning the hyper-parameters of an estimator](https://scikit-learn.org/stable/modules/grid_search.html)\n",
    "\n",
    "> [`RandomizedSearchCV`](https://scikit-learn.org/stable/modules/generated/sklearn.model_selection.RandomizedSearchCV.html) implements a randomized search over parameters, where each setting is sampled from a distribution over possible parameter values.\n",
    ">\n",
    "> For each parameter, either a distribution over possible values or a list of discrete choices (which will be sampled uniformly) can be specified.\n",
    ">\n",
    "> This example uses the `scipy.stats` module, which contains many useful distributions for sampling parameters."
   ]
  },
  {
   "cell_type": "code",
   "execution_count": 19,
   "metadata": {},
   "outputs": [
    {
     "name": "stdout",
     "output_type": "stream",
     "text": [
      "Fitting 3 folds for each of 7 candidates, totalling 21 fits\n"
     ]
    },
    {
     "name": "stderr",
     "output_type": "stream",
     "text": [
      "[Parallel(n_jobs=-1)]: Using backend LokyBackend with 8 concurrent workers.\n",
      "[Parallel(n_jobs=-1)]: Done   2 tasks      | elapsed:  1.3min\n",
      "[Parallel(n_jobs=-1)]: Done   9 out of  21 | elapsed:  3.1min remaining:  4.1min\n",
      "[Parallel(n_jobs=-1)]: Done  12 out of  21 | elapsed:  4.2min remaining:  3.2min\n",
      "[Parallel(n_jobs=-1)]: Done  15 out of  21 | elapsed:  5.1min remaining:  2.0min\n",
      "[Parallel(n_jobs=-1)]: Done  18 out of  21 | elapsed:  5.5min remaining:   54.6s\n",
      "[Parallel(n_jobs=-1)]: Done  21 out of  21 | elapsed:  5.8min remaining:    0.0s\n",
      "[Parallel(n_jobs=-1)]: Done  21 out of  21 | elapsed:  5.8min finished\n"
     ]
    }
   ],
   "source": [
    "from scipy.stats import randint, uniform\n",
    "\n",
    "features = train.columns.drop(target)\n",
    "X_train = train[features]\n",
    "y_train = train[target]\n",
    "\n",
    "pipeline = make_pipeline(\n",
    "    ce.TargetEncoder(), \n",
    "    SimpleImputer(), \n",
    "    RandomForestRegressor(random_state=42)\n",
    ")\n",
    "\n",
    "param_distributions = {\n",
    "    'targetencoder__min_samples_leaf': randint(1, 1000), \n",
    "    \n",
    "#     Remove this hyperparameter, because of an issue: \n",
    "#     https://github.com/scikit-learn-contrib/categorical-encoding/issues/184\n",
    "#     'targetencoder__smoothing': uniform(1, 1000), \n",
    "    \n",
    "    'simpleimputer__strategy': ['mean', 'median'], \n",
    "    'randomforestregressor__n_estimators': randint(50, 500), \n",
    "    'randomforestregressor__max_depth': [5, 10, 15, 20, None], \n",
    "    'randomforestregressor__max_features': uniform(0, 1), \n",
    "}\n",
    "\n",
    "# If you're on Colab, decrease n_iter & cv parameters\n",
    "search = RandomizedSearchCV(\n",
    "    pipeline, \n",
    "    param_distributions=param_distributions, \n",
    "    n_iter=7, \n",
    "    cv=3, \n",
    "    scoring='neg_mean_absolute_error', \n",
    "    verbose=10, \n",
    "    return_train_score=True, \n",
    "    n_jobs=-1\n",
    ")\n",
    "\n",
    "search.fit(X_train, y_train);"
   ]
  },
  {
   "cell_type": "code",
   "execution_count": 20,
   "metadata": {},
   "outputs": [
    {
     "name": "stdout",
     "output_type": "stream",
     "text": [
      "Best hyperparameters {'randomforestregressor__max_depth': 20, 'randomforestregressor__max_features': 0.8418484366673723, 'randomforestregressor__n_estimators': 199, 'simpleimputer__strategy': 'mean', 'targetencoder__min_samples_leaf': 708}\n",
      "Cross-validation MAE 405.5276809948153\n"
     ]
    }
   ],
   "source": [
    "print('Best hyperparameters', search.best_params_)\n",
    "print('Cross-validation MAE', -search.best_score_)"
   ]
  },
  {
   "cell_type": "markdown",
   "metadata": {
    "colab_type": "text",
    "id": "2tJr3YZ8xLt-"
   },
   "source": [
    "### See detailed results"
   ]
  },
  {
   "cell_type": "code",
   "execution_count": 21,
   "metadata": {
    "colab": {
     "base_uri": "https://localhost:8080/",
     "height": 309
    },
    "colab_type": "code",
    "id": "IGHRUlY3xF1O",
    "outputId": "679c140a-14a3-4083-f9f9-9e52b47a8d2d"
   },
   "outputs": [
    {
     "data": {
      "text/html": [
       "<div>\n",
       "<style scoped>\n",
       "    .dataframe tbody tr th:only-of-type {\n",
       "        vertical-align: middle;\n",
       "    }\n",
       "\n",
       "    .dataframe tbody tr th {\n",
       "        vertical-align: top;\n",
       "    }\n",
       "\n",
       "    .dataframe thead th {\n",
       "        text-align: right;\n",
       "    }\n",
       "</style>\n",
       "<table border=\"1\" class=\"dataframe\">\n",
       "  <thead>\n",
       "    <tr style=\"text-align: right;\">\n",
       "      <th></th>\n",
       "      <th>4</th>\n",
       "      <th>1</th>\n",
       "      <th>6</th>\n",
       "      <th>5</th>\n",
       "      <th>2</th>\n",
       "      <th>3</th>\n",
       "      <th>0</th>\n",
       "    </tr>\n",
       "  </thead>\n",
       "  <tbody>\n",
       "    <tr>\n",
       "      <th>mean_fit_time</th>\n",
       "      <td>167.714</td>\n",
       "      <td>70.7176</td>\n",
       "      <td>75.5702</td>\n",
       "      <td>46.3404</td>\n",
       "      <td>107.451</td>\n",
       "      <td>233.261</td>\n",
       "      <td>103.428</td>\n",
       "    </tr>\n",
       "    <tr>\n",
       "      <th>std_fit_time</th>\n",
       "      <td>2.63279</td>\n",
       "      <td>1.09211</td>\n",
       "      <td>9.4173</td>\n",
       "      <td>0.715514</td>\n",
       "      <td>1.89311</td>\n",
       "      <td>3.7965</td>\n",
       "      <td>0.230426</td>\n",
       "    </tr>\n",
       "    <tr>\n",
       "      <th>mean_score_time</th>\n",
       "      <td>3.20644</td>\n",
       "      <td>1.50035</td>\n",
       "      <td>0.858296</td>\n",
       "      <td>3.26034</td>\n",
       "      <td>5.30042</td>\n",
       "      <td>2.52498</td>\n",
       "      <td>1.28379</td>\n",
       "    </tr>\n",
       "    <tr>\n",
       "      <th>std_score_time</th>\n",
       "      <td>0.176365</td>\n",
       "      <td>0.0834055</td>\n",
       "      <td>0.0824798</td>\n",
       "      <td>0.0506818</td>\n",
       "      <td>0.340069</td>\n",
       "      <td>0.155924</td>\n",
       "      <td>0.0451903</td>\n",
       "    </tr>\n",
       "    <tr>\n",
       "      <th>param_randomforestregressor__max_depth</th>\n",
       "      <td>20</td>\n",
       "      <td>20</td>\n",
       "      <td>15</td>\n",
       "      <td>None</td>\n",
       "      <td>15</td>\n",
       "      <td>10</td>\n",
       "      <td>5</td>\n",
       "    </tr>\n",
       "    <tr>\n",
       "      <th>param_randomforestregressor__max_features</th>\n",
       "      <td>0.841848</td>\n",
       "      <td>0.896153</td>\n",
       "      <td>0.997961</td>\n",
       "      <td>0.149688</td>\n",
       "      <td>0.232732</td>\n",
       "      <td>0.929338</td>\n",
       "      <td>0.973419</td>\n",
       "    </tr>\n",
       "    <tr>\n",
       "      <th>param_randomforestregressor__n_estimators</th>\n",
       "      <td>199</td>\n",
       "      <td>77</td>\n",
       "      <td>101</td>\n",
       "      <td>185</td>\n",
       "      <td>455</td>\n",
       "      <td>458</td>\n",
       "      <td>382</td>\n",
       "    </tr>\n",
       "    <tr>\n",
       "      <th>param_simpleimputer__strategy</th>\n",
       "      <td>mean</td>\n",
       "      <td>median</td>\n",
       "      <td>median</td>\n",
       "      <td>median</td>\n",
       "      <td>median</td>\n",
       "      <td>median</td>\n",
       "      <td>median</td>\n",
       "    </tr>\n",
       "    <tr>\n",
       "      <th>param_targetencoder__min_samples_leaf</th>\n",
       "      <td>708</td>\n",
       "      <td>346</td>\n",
       "      <td>747</td>\n",
       "      <td>316</td>\n",
       "      <td>366</td>\n",
       "      <td>868</td>\n",
       "      <td>732</td>\n",
       "    </tr>\n",
       "    <tr>\n",
       "      <th>params</th>\n",
       "      <td>{'randomforestregressor__max_depth': 20, 'rand...</td>\n",
       "      <td>{'randomforestregressor__max_depth': 20, 'rand...</td>\n",
       "      <td>{'randomforestregressor__max_depth': 15, 'rand...</td>\n",
       "      <td>{'randomforestregressor__max_depth': None, 'ra...</td>\n",
       "      <td>{'randomforestregressor__max_depth': 15, 'rand...</td>\n",
       "      <td>{'randomforestregressor__max_depth': 10, 'rand...</td>\n",
       "      <td>{'randomforestregressor__max_depth': 5, 'rando...</td>\n",
       "    </tr>\n",
       "    <tr>\n",
       "      <th>split0_test_score</th>\n",
       "      <td>-408.179</td>\n",
       "      <td>-410.119</td>\n",
       "      <td>-433.708</td>\n",
       "      <td>-453.655</td>\n",
       "      <td>-456.149</td>\n",
       "      <td>-495.469</td>\n",
       "      <td>-616.938</td>\n",
       "    </tr>\n",
       "    <tr>\n",
       "      <th>split1_test_score</th>\n",
       "      <td>-410.364</td>\n",
       "      <td>-414.522</td>\n",
       "      <td>-433.22</td>\n",
       "      <td>-451.703</td>\n",
       "      <td>-451.396</td>\n",
       "      <td>-487.923</td>\n",
       "      <td>-617.206</td>\n",
       "    </tr>\n",
       "    <tr>\n",
       "      <th>split2_test_score</th>\n",
       "      <td>-398.04</td>\n",
       "      <td>-401.858</td>\n",
       "      <td>-425.332</td>\n",
       "      <td>-448.579</td>\n",
       "      <td>-449.931</td>\n",
       "      <td>-490.933</td>\n",
       "      <td>-623.304</td>\n",
       "    </tr>\n",
       "    <tr>\n",
       "      <th>mean_test_score</th>\n",
       "      <td>-405.528</td>\n",
       "      <td>-408.833</td>\n",
       "      <td>-430.753</td>\n",
       "      <td>-451.312</td>\n",
       "      <td>-452.492</td>\n",
       "      <td>-491.442</td>\n",
       "      <td>-619.149</td>\n",
       "    </tr>\n",
       "    <tr>\n",
       "      <th>std_test_score</th>\n",
       "      <td>5.36947</td>\n",
       "      <td>5.24947</td>\n",
       "      <td>3.83874</td>\n",
       "      <td>2.09046</td>\n",
       "      <td>2.65413</td>\n",
       "      <td>3.10175</td>\n",
       "      <td>2.93945</td>\n",
       "    </tr>\n",
       "    <tr>\n",
       "      <th>rank_test_score</th>\n",
       "      <td>1</td>\n",
       "      <td>2</td>\n",
       "      <td>3</td>\n",
       "      <td>4</td>\n",
       "      <td>5</td>\n",
       "      <td>6</td>\n",
       "      <td>7</td>\n",
       "    </tr>\n",
       "    <tr>\n",
       "      <th>split0_train_score</th>\n",
       "      <td>-178.216</td>\n",
       "      <td>-180.444</td>\n",
       "      <td>-273.086</td>\n",
       "      <td>-165.21</td>\n",
       "      <td>-306.085</td>\n",
       "      <td>-430.55</td>\n",
       "      <td>-611.059</td>\n",
       "    </tr>\n",
       "    <tr>\n",
       "      <th>split1_train_score</th>\n",
       "      <td>-177.475</td>\n",
       "      <td>-179.539</td>\n",
       "      <td>-275.425</td>\n",
       "      <td>-164.135</td>\n",
       "      <td>-308.112</td>\n",
       "      <td>-431.794</td>\n",
       "      <td>-608.279</td>\n",
       "    </tr>\n",
       "    <tr>\n",
       "      <th>split2_train_score</th>\n",
       "      <td>-180.169</td>\n",
       "      <td>-183.123</td>\n",
       "      <td>-280.301</td>\n",
       "      <td>-165.382</td>\n",
       "      <td>-309.831</td>\n",
       "      <td>-436.964</td>\n",
       "      <td>-616.05</td>\n",
       "    </tr>\n",
       "    <tr>\n",
       "      <th>mean_train_score</th>\n",
       "      <td>-178.62</td>\n",
       "      <td>-181.036</td>\n",
       "      <td>-276.271</td>\n",
       "      <td>-164.909</td>\n",
       "      <td>-308.009</td>\n",
       "      <td>-433.102</td>\n",
       "      <td>-611.796</td>\n",
       "    </tr>\n",
       "    <tr>\n",
       "      <th>std_train_score</th>\n",
       "      <td>1.13607</td>\n",
       "      <td>1.52187</td>\n",
       "      <td>3.00536</td>\n",
       "      <td>0.551807</td>\n",
       "      <td>1.53118</td>\n",
       "      <td>2.77713</td>\n",
       "      <td>3.21534</td>\n",
       "    </tr>\n",
       "  </tbody>\n",
       "</table>\n",
       "</div>"
      ],
      "text/plain": [
       "                                                                                           4  \\\n",
       "mean_fit_time                                                                        167.714   \n",
       "std_fit_time                                                                         2.63279   \n",
       "mean_score_time                                                                      3.20644   \n",
       "std_score_time                                                                      0.176365   \n",
       "param_randomforestregressor__max_depth                                                    20   \n",
       "param_randomforestregressor__max_features                                           0.841848   \n",
       "param_randomforestregressor__n_estimators                                                199   \n",
       "param_simpleimputer__strategy                                                           mean   \n",
       "param_targetencoder__min_samples_leaf                                                    708   \n",
       "params                                     {'randomforestregressor__max_depth': 20, 'rand...   \n",
       "split0_test_score                                                                   -408.179   \n",
       "split1_test_score                                                                   -410.364   \n",
       "split2_test_score                                                                    -398.04   \n",
       "mean_test_score                                                                     -405.528   \n",
       "std_test_score                                                                       5.36947   \n",
       "rank_test_score                                                                            1   \n",
       "split0_train_score                                                                  -178.216   \n",
       "split1_train_score                                                                  -177.475   \n",
       "split2_train_score                                                                  -180.169   \n",
       "mean_train_score                                                                     -178.62   \n",
       "std_train_score                                                                      1.13607   \n",
       "\n",
       "                                                                                           1  \\\n",
       "mean_fit_time                                                                        70.7176   \n",
       "std_fit_time                                                                         1.09211   \n",
       "mean_score_time                                                                      1.50035   \n",
       "std_score_time                                                                     0.0834055   \n",
       "param_randomforestregressor__max_depth                                                    20   \n",
       "param_randomforestregressor__max_features                                           0.896153   \n",
       "param_randomforestregressor__n_estimators                                                 77   \n",
       "param_simpleimputer__strategy                                                         median   \n",
       "param_targetencoder__min_samples_leaf                                                    346   \n",
       "params                                     {'randomforestregressor__max_depth': 20, 'rand...   \n",
       "split0_test_score                                                                   -410.119   \n",
       "split1_test_score                                                                   -414.522   \n",
       "split2_test_score                                                                   -401.858   \n",
       "mean_test_score                                                                     -408.833   \n",
       "std_test_score                                                                       5.24947   \n",
       "rank_test_score                                                                            2   \n",
       "split0_train_score                                                                  -180.444   \n",
       "split1_train_score                                                                  -179.539   \n",
       "split2_train_score                                                                  -183.123   \n",
       "mean_train_score                                                                    -181.036   \n",
       "std_train_score                                                                      1.52187   \n",
       "\n",
       "                                                                                           6  \\\n",
       "mean_fit_time                                                                        75.5702   \n",
       "std_fit_time                                                                          9.4173   \n",
       "mean_score_time                                                                     0.858296   \n",
       "std_score_time                                                                     0.0824798   \n",
       "param_randomforestregressor__max_depth                                                    15   \n",
       "param_randomforestregressor__max_features                                           0.997961   \n",
       "param_randomforestregressor__n_estimators                                                101   \n",
       "param_simpleimputer__strategy                                                         median   \n",
       "param_targetencoder__min_samples_leaf                                                    747   \n",
       "params                                     {'randomforestregressor__max_depth': 15, 'rand...   \n",
       "split0_test_score                                                                   -433.708   \n",
       "split1_test_score                                                                    -433.22   \n",
       "split2_test_score                                                                   -425.332   \n",
       "mean_test_score                                                                     -430.753   \n",
       "std_test_score                                                                       3.83874   \n",
       "rank_test_score                                                                            3   \n",
       "split0_train_score                                                                  -273.086   \n",
       "split1_train_score                                                                  -275.425   \n",
       "split2_train_score                                                                  -280.301   \n",
       "mean_train_score                                                                    -276.271   \n",
       "std_train_score                                                                      3.00536   \n",
       "\n",
       "                                                                                           5  \\\n",
       "mean_fit_time                                                                        46.3404   \n",
       "std_fit_time                                                                        0.715514   \n",
       "mean_score_time                                                                      3.26034   \n",
       "std_score_time                                                                     0.0506818   \n",
       "param_randomforestregressor__max_depth                                                  None   \n",
       "param_randomforestregressor__max_features                                           0.149688   \n",
       "param_randomforestregressor__n_estimators                                                185   \n",
       "param_simpleimputer__strategy                                                         median   \n",
       "param_targetencoder__min_samples_leaf                                                    316   \n",
       "params                                     {'randomforestregressor__max_depth': None, 'ra...   \n",
       "split0_test_score                                                                   -453.655   \n",
       "split1_test_score                                                                   -451.703   \n",
       "split2_test_score                                                                   -448.579   \n",
       "mean_test_score                                                                     -451.312   \n",
       "std_test_score                                                                       2.09046   \n",
       "rank_test_score                                                                            4   \n",
       "split0_train_score                                                                   -165.21   \n",
       "split1_train_score                                                                  -164.135   \n",
       "split2_train_score                                                                  -165.382   \n",
       "mean_train_score                                                                    -164.909   \n",
       "std_train_score                                                                     0.551807   \n",
       "\n",
       "                                                                                           2  \\\n",
       "mean_fit_time                                                                        107.451   \n",
       "std_fit_time                                                                         1.89311   \n",
       "mean_score_time                                                                      5.30042   \n",
       "std_score_time                                                                      0.340069   \n",
       "param_randomforestregressor__max_depth                                                    15   \n",
       "param_randomforestregressor__max_features                                           0.232732   \n",
       "param_randomforestregressor__n_estimators                                                455   \n",
       "param_simpleimputer__strategy                                                         median   \n",
       "param_targetencoder__min_samples_leaf                                                    366   \n",
       "params                                     {'randomforestregressor__max_depth': 15, 'rand...   \n",
       "split0_test_score                                                                   -456.149   \n",
       "split1_test_score                                                                   -451.396   \n",
       "split2_test_score                                                                   -449.931   \n",
       "mean_test_score                                                                     -452.492   \n",
       "std_test_score                                                                       2.65413   \n",
       "rank_test_score                                                                            5   \n",
       "split0_train_score                                                                  -306.085   \n",
       "split1_train_score                                                                  -308.112   \n",
       "split2_train_score                                                                  -309.831   \n",
       "mean_train_score                                                                    -308.009   \n",
       "std_train_score                                                                      1.53118   \n",
       "\n",
       "                                                                                           3  \\\n",
       "mean_fit_time                                                                        233.261   \n",
       "std_fit_time                                                                          3.7965   \n",
       "mean_score_time                                                                      2.52498   \n",
       "std_score_time                                                                      0.155924   \n",
       "param_randomforestregressor__max_depth                                                    10   \n",
       "param_randomforestregressor__max_features                                           0.929338   \n",
       "param_randomforestregressor__n_estimators                                                458   \n",
       "param_simpleimputer__strategy                                                         median   \n",
       "param_targetencoder__min_samples_leaf                                                    868   \n",
       "params                                     {'randomforestregressor__max_depth': 10, 'rand...   \n",
       "split0_test_score                                                                   -495.469   \n",
       "split1_test_score                                                                   -487.923   \n",
       "split2_test_score                                                                   -490.933   \n",
       "mean_test_score                                                                     -491.442   \n",
       "std_test_score                                                                       3.10175   \n",
       "rank_test_score                                                                            6   \n",
       "split0_train_score                                                                   -430.55   \n",
       "split1_train_score                                                                  -431.794   \n",
       "split2_train_score                                                                  -436.964   \n",
       "mean_train_score                                                                    -433.102   \n",
       "std_train_score                                                                      2.77713   \n",
       "\n",
       "                                                                                           0  \n",
       "mean_fit_time                                                                        103.428  \n",
       "std_fit_time                                                                        0.230426  \n",
       "mean_score_time                                                                      1.28379  \n",
       "std_score_time                                                                     0.0451903  \n",
       "param_randomforestregressor__max_depth                                                     5  \n",
       "param_randomforestregressor__max_features                                           0.973419  \n",
       "param_randomforestregressor__n_estimators                                                382  \n",
       "param_simpleimputer__strategy                                                         median  \n",
       "param_targetencoder__min_samples_leaf                                                    732  \n",
       "params                                     {'randomforestregressor__max_depth': 5, 'rando...  \n",
       "split0_test_score                                                                   -616.938  \n",
       "split1_test_score                                                                   -617.206  \n",
       "split2_test_score                                                                   -623.304  \n",
       "mean_test_score                                                                     -619.149  \n",
       "std_test_score                                                                       2.93945  \n",
       "rank_test_score                                                                            7  \n",
       "split0_train_score                                                                  -611.059  \n",
       "split1_train_score                                                                  -608.279  \n",
       "split2_train_score                                                                   -616.05  \n",
       "mean_train_score                                                                    -611.796  \n",
       "std_train_score                                                                      3.21534  "
      ]
     },
     "execution_count": 21,
     "metadata": {},
     "output_type": "execute_result"
    }
   ],
   "source": [
    "pd.DataFrame(search.cv_results_).sort_values(by='rank_test_score').T"
   ]
  },
  {
   "cell_type": "markdown",
   "metadata": {
    "colab_type": "text",
    "id": "GDZyu6FNyY2l"
   },
   "source": [
    "### Make predictions for test set"
   ]
  },
  {
   "cell_type": "code",
   "execution_count": 22,
   "metadata": {},
   "outputs": [],
   "source": [
    "pipeline = search.best_estimator_"
   ]
  },
  {
   "cell_type": "code",
   "execution_count": 23,
   "metadata": {
    "colab": {},
    "colab_type": "code",
    "id": "OuWqQUk_yIw4"
   },
   "outputs": [
    {
     "name": "stdout",
     "output_type": "stream",
     "text": [
      "Test MAE: $423\n"
     ]
    }
   ],
   "source": [
    "from sklearn.metrics import mean_absolute_error\n",
    "\n",
    "X_test = test[features]\n",
    "y_test = test[target]\n",
    "\n",
    "y_pred = pipeline.predict(X_test)\n",
    "mae = mean_absolute_error(y_test, y_pred)\n",
    "print(f'Test MAE: ${mae:,.0f}')"
   ]
  },
  {
   "cell_type": "markdown",
   "metadata": {},
   "source": [
    "\n",
    "Here's what the [`RandomizdSearchCV` documentation](https://scikit-learn.org/stable/modules/generated/sklearn.model_selection.RandomizedSearchCV.html) says about the `best_estimator_` attribute:\n",
    "\n",
    "> **best_estimator_** : ***estimator***  \n",
    "> Estimator that was chosen by the search, i.e. estimator which gave highest score (or smallest loss if specified) on the left out data. Not available if `refit=False`. ... See `refit` parameter for more information ...\n",
    "\n",
    "So let's look at the `refit` parameter too:\n",
    "\n",
    "> **refit** : ***boolean, string, or callable, default=True***  \n",
    "> Refit an estimator using the best found parameters on the whole dataset.\n",
    "\n",
    "By default, scikit-learn cross-validation will _\"refit an estimator using the best found parameters on the whole dataset\",_ which means, use **all** the training data:\n",
    "\n",
    "<img src=\"https://scikit-learn.org/stable/_images/grid_search_workflow.png\" width=\"50%\">\n",
    "\n",
    "***Tip: If you're doing 3-way train/validation/test split, you should do this too!*** After you've optimized your hyperparameters and selected your final model, then manually refit on both the training and validation data."
   ]
  },
  {
   "cell_type": "markdown",
   "metadata": {},
   "source": [
    "## Challenge\n",
    "\n",
    "For your assignment, use scikit-learn for hyperparameter optimization with RandomizedSearchCV."
   ]
  },
  {
   "cell_type": "markdown",
   "metadata": {},
   "source": [
    "# Review\n",
    "\n",
    "Continue to participate in our Kaggle Challenge, and practice these objectives:\n",
    "\n",
    "- Do **cross-validation** with independent test set\n",
    "- Use scikit-learn for **hyperparameter optimization**\n",
    "\n",
    "You can refer to these suggestions when you do hyperparameter optimization, now and in future projects:"
   ]
  },
  {
   "cell_type": "markdown",
   "metadata": {
    "colab_type": "text",
    "id": "4sQiv9s2kOjn"
   },
   "source": [
    "### Tree Ensemble hyperparameter suggestions\n",
    "\n",
    "#### Random Forest\n",
    "- class_weight (for imbalanced classes)\n",
    "- max_depth (usually high, can try decreasing)\n",
    "- n_estimators (too low underfits, too high wastes time)\n",
    "- min_samples_leaf (increase if overfitting)\n",
    "- max_features (decrease for more diverse trees)\n",
    "\n",
    "#### XGBoost\n",
    "- scale_pos_weight (for imbalanced classes)\n",
    "- max_depth (usually low, can try increasing)\n",
    "- n_estimators (too low underfits, too high wastes time/overfits) — _I recommend using early stopping instead of cross-validation_\n",
    "- learning_rate (too low underfits, too high overfits)\n",
    "- See [Notes on Parameter Tuning](https://xgboost.readthedocs.io/en/latest/tutorials/param_tuning.html) and [DART booster](https://xgboost.readthedocs.io/en/latest/tutorials/dart.html) for more ideas\n",
    "\n",
    "### Linear Model hyperparameter suggestions \n",
    "\n",
    "#### Logistic Regression\n",
    "- C\n",
    "- class_weight (for imbalanced classes)\n",
    "- penalty\n",
    "\n",
    "#### Ridge / Lasso Regression\n",
    "- alpha\n",
    "\n",
    "#### ElasticNet Regression\n",
    "- alpha\n",
    "- l1_ratio\n",
    "\n",
    "For more explanation, see [**Aaron Gallant's 9 minute video on Ridge Regression**](https://www.youtube.com/watch?v=XK5jkedy17w)!"
   ]
  },
  {
   "cell_type": "markdown",
   "metadata": {},
   "source": [
    "# Sources\n",
    "- Jake VanderPlas, [Python Data Science Handbook, Chapter 5.3,](https://jakevdp.github.io/PythonDataScienceHandbook/05.03-hyperparameters-and-model-validation.html) Hyperparameters and Model Validation\n",
    "- Peter Worcester, [A Comparison of Grid Search and Randomized Search Using Scikit Learn](https://blog.usejournal.com/a-comparison-of-grid-search-and-randomized-search-using-scikit-learn-29823179bc85)\n",
    "- Ron Zacharski, [A Programmer’s Guide to Data Mining, Chapter 5,](http://guidetodatamining.com/chapter5/) first 10 pages, for a great explanation of cross-validation with examples and pictures\n",
    "- Sebastian Raschka, [Model Evaluation](https://sebastianraschka.com/blog/2018/model-evaluation-selection-part4.html)\n",
    "- [Scikit-Learn User Guide, 3.1 Cross-validation](https://scikit-learn.org/stable/modules/cross_validation.html)\n",
    "- [Scikit-Learn User Guide, 3.2 Tuning the hyper-parameters of an estimator](https://scikit-learn.org/stable/modules/grid_search.html)\n",
    "- [sklearn.model_selection.cross_val_score](https://scikit-learn.org/stable/modules/generated/sklearn.model_selection.cross_val_score.html)\n",
    "- [sklearn.model_selection.RandomizedSearchCV](https://scikit-learn.org/stable/modules/generated/sklearn.model_selection.RandomizedSearchCV.html)\n",
    "- [xgboost, Notes on Parameter Tuning](https://xgboost.readthedocs.io/en/latest/tutorials/param_tuning.html)"
   ]
  }
 ],
 "metadata": {
  "kernelspec": {
   "display_name": "Python 3",
   "language": "python",
   "name": "python3"
  },
  "language_info": {
   "codemirror_mode": {
    "name": "ipython",
    "version": 3
   },
   "file_extension": ".py",
   "mimetype": "text/x-python",
   "name": "python",
   "nbconvert_exporter": "python",
   "pygments_lexer": "ipython3",
   "version": "3.7.4"
  }
 },
 "nbformat": 4,
 "nbformat_minor": 4
}
